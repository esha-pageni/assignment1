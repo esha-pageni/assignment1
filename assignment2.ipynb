{
 "cells": [
  {
   "cell_type": "markdown",
   "id": "7399b313-c964-4553-b4b7-21db049b72f9",
   "metadata": {},
   "source": [
    " 1.\tCreate a List L that is defined as L= [10, 20, 30, 40, 50, 60, 70, 80]. \n",
    "   i.\tWAP to add 200 and 300 to L.\n",
    "   ii. \tWAP to remove 10 and 30 from L.\n",
    "   iii. \tWAP to sort L in ascending order.\n",
    "   iv. \tWAP to sort L in descending order\n"
   ]
  },
  {
   "cell_type": "code",
   "execution_count": 12,
   "id": "0a535353-9ed6-4ef1-8fbc-049803ef5624",
   "metadata": {},
   "outputs": [
    {
     "name": "stdout",
     "output_type": "stream",
     "text": [
      "after adding 200 and 300: [10, 20, 30, 40, 50, 60, 70, 80, 200, 300]\n",
      "after removing 10 and 30: [20, 40, 50, 60, 70, 80, 200, 300]\n",
      " L after sorting in ascending order [20, 40, 50, 60, 70, 80, 200, 300]\n",
      "after sorting in descending order [300, 200, 80, 70, 60, 50, 40, 20]\n"
     ]
    }
   ],
   "source": [
    "L =[10,20,30,40,50,60,70,80]\n",
    "L.append(200)\n",
    "L.append(300)\n",
    "print(\"after adding 200 and 300:\",L)\n",
    "L.remove(10)\n",
    "L.remove(30)\n",
    "print(\"after removing 10 and 30:\",L)\n",
    "sorted(L)\n",
    "print(\" L after sorting in ascending order\",L)\n",
    "l_descending=sorted(L,reverse=True)\n",
    "print(\"after sorting in descending order\",l_descending)\n",
    "\n",
    "\n"
   ]
  },
  {
   "cell_type": "markdown",
   "id": "c0d0f237-eb41-493a-bee3-b6ebedca1f24",
   "metadata": {},
   "source": [
    "2.\tCreate a tuple of marks scored as scores = (45, 89.5, 76, 45.4, 89, 92, 58, 45) and perform the following operations using tuple functions:\n",
    "i.\tIdentify the highest score and its index in the tuple. \n",
    "ii.\tFind the lowest score and count how many times it appears.\n",
    "iii. \tReverse the tuple and return it as a list.\n",
    "iv. \tCheck if a specific score ‘76’ (input by the user) is present in the tuple and print its first occurrence index, or a message saying it’s not present\n",
    " "
   ]
  },
  {
   "cell_type": "code",
   "execution_count": 21,
   "id": "18ee0627-aff2-404b-845d-e2b3df4dcf7a",
   "metadata": {},
   "outputs": [
    {
     "name": "stdout",
     "output_type": "stream",
     "text": [
      "the highest score is : 92\n",
      "the highest index is: 5\n",
      "the lowest score is : 45\n",
      "the count of the lowest score is : 2\n",
      "the score 76 is present at index:2\n"
     ]
    }
   ],
   "source": [
    "score=(45,89.5,76,45.4,89,92,58,45)\n",
    "highscore=max(score)\n",
    "print(\"the highest score is :\",highscore)\n",
    "highindex=score.index(highscore)\n",
    "print(\"the highest index is:\",highindex)\n",
    "lowestscore=min(score)\n",
    "print(\"the lowest score is :\",lowestscore)\n",
    "count=score.count(lowestscore)\n",
    "print(\"the count of the lowest score is :\",count)\n",
    "reversedlist=list(score[::-1])\n",
    "inputbyuser=76\n",
    "if inputbyuser in score:\n",
    "    firstoccurence=score.index(inputbyuser)\n",
    "    presence=f\"the score {inputbyuser} is present at index:{firstoccurence}\"\n",
    "else:\n",
    "    presence=f\"the score{inputbyuser} is not present in the tuple\"\n",
    "print(presence)"
   ]
  },
  {
   "cell_type": "markdown",
   "id": "f23725fa-2334-47a1-aa9d-d32347cfa432",
   "metadata": {},
   "source": [
    "3.\tWAP to create a list of 100 random numbers between 100 and 900. Count and print the: \n",
    "i.\tAll odd numbers \n",
    "ii.\tAll even numbers \n",
    "iii.All prime numbers"
   ]
  },
  {
   "cell_type": "code",
   "execution_count": 23,
   "id": "c8c329c5-29dd-4a2b-9a82-92cdc1665113",
   "metadata": {},
   "outputs": [
    {
     "name": "stdout",
     "output_type": "stream",
     "text": [
      "random numbers: [275, 784, 559, 218, 171, 841, 544, 391, 426, 100, 269, 233, 352, 609, 450, 174, 143, 820, 794, 871, 678, 400, 338, 609, 628, 564, 424, 676, 180, 520, 225, 807, 113, 634, 431, 218, 552, 622, 885, 328, 782, 675, 719, 517, 447, 856, 707, 500, 866, 876, 879, 393, 107, 307, 738, 637, 496, 676, 140, 517, 421, 418, 838, 539, 652, 203, 194, 605, 164, 410, 600, 181, 438, 762, 358, 580, 506, 776, 367, 590, 638, 732, 565, 880, 887, 665, 359, 114, 275, 865, 837, 823, 371, 170, 303, 185, 499, 808, 850, 603]\n",
      "odd number: [275, 559, 171, 841, 391, 269, 233, 609, 143, 871, 609, 225, 807, 113, 431, 885, 675, 719, 517, 447, 707, 879, 393, 107, 307, 637, 517, 421, 539, 203, 605, 181, 367, 565, 887, 665, 359, 275, 865, 837, 823, 371, 303, 185, 499, 603]\n",
      "even numbers: [784, 218, 544, 426, 100, 352, 450, 174, 820, 794, 678, 400, 338, 628, 564, 424, 676, 180, 520, 634, 218, 552, 622, 328, 782, 856, 500, 866, 876, 738, 496, 676, 140, 418, 838, 652, 194, 164, 410, 600, 438, 762, 358, 580, 506, 776, 590, 638, 732, 880, 114, 170, 808, 850]\n",
      "prime numbers: [275, 559, 171, 841, 391, 269, 233, 609, 143, 871, 609, 225, 807, 113, 431, 885, 675, 719, 517, 447, 707, 879, 393, 107, 307, 637, 517, 421, 539, 203, 605, 181, 367, 565, 887, 665, 359, 275, 865, 837, 823, 371, 303, 185, 499, 603]\n",
      "count of odd numbers: 46\n",
      "count of even numbers: 54\n",
      "count of prime numbers: 46\n"
     ]
    }
   ],
   "source": [
    "import random\n",
    "randomnum=[random.randint(100,900) for _ in range(100)]\n",
    "def is_prime(n):\n",
    "    if n<2:\n",
    "        return False\n",
    "    for i in range(2,int(n**0.5)+1):\n",
    "        if n%i==0:\n",
    "            return False\n",
    "        return True\n",
    "print(\"random numbers:\", randomnum)\n",
    "oddnum=[num for num in randomnum if num % 2 !=0]\n",
    "print(\"odd number:\",oddnum)\n",
    "evennum=[num for num in randomnum if num %2==0]\n",
    "print(\"even numbers:\",evennum)\n",
    "primenum=[num for num in randomnum if is_prime(num)]\n",
    "print(\"prime numbers:\",primenum)\n",
    "primenum=[num for num in randomnum if is_prime(num)]\n",
    "print(\"count of odd numbers:\",len(oddnum))\n",
    "print(\"count of even numbers:\",len(evennum))\n",
    "print(\"count of prime numbers:\", len(primenum))\n"
   ]
  },
  {
   "cell_type": "markdown",
   "id": "0a4c4a7f-63ce-4ab0-afeb-668fcf0ac2b0",
   "metadata": {},
   "source": [
    "4.\tConsider the following two sets, A and B, representing scores of two teams in multiple\n",
    " A = {34, 56, 78, 90}  and B = {78, 45, 90, 23} \n",
    "WAP to perform the following opera ons using set func ons: \n",
    "i.\tFind the unique scores achieved by both teams (union of sets). \n",
    "ii.\tIdentify the scores that are common to both teams (intersection of sets).\n",
    "iii. \tFind the scores that are exclusive to each team (symmetric difference). \n",
    "iv.\tCheck if the scores of team A are a subset of team B, and if team B's scores are a superset of team A. \n",
    "v.\tRemove a specific score 𝑋 (input by the user) from set A if it exists. If not, print a message saying it is not present. \n",
    " \n"
   ]
  },
  {
   "cell_type": "code",
   "execution_count": 25,
   "id": "530da4ab-d68e-4df7-b7fd-580ac09629e3",
   "metadata": {},
   "outputs": [
    {
     "name": "stdout",
     "output_type": "stream",
     "text": [
      "the unique scores achieved by both teams: {34, 45, 78, 23, 56, 90}\n",
      "the common scores of both teams are: {90, 78}\n",
      "the exclusive scores to each team are: {34, 45, 23, 56}\n",
      "is A subset of B?False\n",
      "is B superset of AFalse\n"
     ]
    },
    {
     "name": "stdin",
     "output_type": "stream",
     "text": [
      "enter a score from set A: 78\n"
     ]
    },
    {
     "name": "stdout",
     "output_type": "stream",
     "text": [
      "the score 78 is removed from set A\n",
      "updated set A: {56, 34, 90}\n"
     ]
    }
   ],
   "source": [
    "A={34,56,78,90}\n",
    "B={78,45,90,23}\n",
    "union=A.union(B)\n",
    "print(\"the unique scores achieved by both teams:\",union)\n",
    "common=A.intersection(B)\n",
    "print(\"the common scores of both teams are:\",common)\n",
    "difference=A.symmetric_difference(B)\n",
    "print(\"the exclusive scores to each team are:\",difference)\n",
    "isAsubsetofB=A.issubset(B)\n",
    "print(f\"is A subset of B?{isAsubsetofB}\")\n",
    "isBsupersetofA=B.issuperset(A)\n",
    "print(f\"is B superset of A{isBsupersetofA}\")\n",
    "x=int(input(\"enter a score from set A:\"))\n",
    "if x in A:\n",
    "    A.remove(x)\n",
    "    message=f\"the score {x} is removed from set A\"\n",
    "else:\n",
    "    message=f\"the score {x} is not present i  set A\"\n",
    "\n",
    "print(message)\n",
    "print(\"updated set A:\",A)\n",
    "      \n"
   ]
  },
  {
   "cell_type": "markdown",
   "id": "6b91d928-ba29-40b4-aef9-87895c669f8d",
   "metadata": {},
   "source": [
    "5.\tWrite a program to rename a key city to a location in the following dictionary. "
   ]
  },
  {
   "cell_type": "code",
   "execution_count": 27,
   "id": "157f386b-9976-4762-baa4-75c5781a808f",
   "metadata": {},
   "outputs": [
    {
     "name": "stdout",
     "output_type": "stream",
     "text": [
      "{'name': 'kelly', 'age': 25, 'salary': 80000, 'location': 'NEW YORK'}\n"
     ]
    }
   ],
   "source": [
    "sampledict={\"name\":\"kelly\",\"age\":25,\"salary\":80000,\"city\":\"NEW YORK\"}\n",
    "sampledict[\"location\"]=sampledict.pop(\"city\")\n",
    "print(sampledict)"
   ]
  },
  {
   "cell_type": "code",
   "execution_count": null,
   "id": "81de6e60-ac8e-44e0-8124-2a2aa9843c01",
   "metadata": {},
   "outputs": [],
   "source": []
  }
 ],
 "metadata": {
  "kernelspec": {
   "display_name": "Python [conda env:base] *",
   "language": "python",
   "name": "conda-base-py"
  },
  "language_info": {
   "codemirror_mode": {
    "name": "ipython",
    "version": 3
   },
   "file_extension": ".py",
   "mimetype": "text/x-python",
   "name": "python",
   "nbconvert_exporter": "python",
   "pygments_lexer": "ipython3",
   "version": "3.12.7"
  }
 },
 "nbformat": 4,
 "nbformat_minor": 5
}
