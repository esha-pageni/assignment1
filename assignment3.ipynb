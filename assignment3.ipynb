{
 "cells": [
  {
   "cell_type": "markdown",
   "id": "50780e75-322b-4e03-834e-9f18df482da0",
   "metadata": {},
   "source": [
    "1...CREATE A DATASET :"
   ]
  },
  {
   "cell_type": "code",
   "execution_count": 2,
   "id": "be085e99-accf-4366-bd78-6b035dc243a2",
   "metadata": {},
   "outputs": [
    {
     "name": "stdout",
     "output_type": "stream",
     "text": [
      "   Tid Refund Marital Status Taxable Income Cheat\n",
      "0    1    Yes         Single           125K    No\n",
      "1    2     No        Married           100K    No\n",
      "2    3     No         Single            70K    No\n",
      "3    4    Yes        Married           120K    No\n",
      "4    5     No       Divorced            95K   Yes\n",
      "5    6     No        Married            60K    No\n",
      "6    7    Yes       Divorced           220K    No\n",
      "7    8     No         Single            85K   Yes\n",
      "8    9     No        Married            75K    No\n",
      "9   10     No         Single            90K   Yes\n"
     ]
    }
   ],
   "source": [
    "import pandas as pd\n",
    "data = {\n",
    "    \"Tid\": [1, 2, 3, 4, 5, 6, 7, 8, 9, 10],\n",
    "    \"Refund\": [\"Yes\", \"No\", \"No\", \"Yes\", \"No\", \"No\", \"Yes\", \"No\", \"No\", \"No\"],\n",
    "    \"Marital Status\": [\"Single\", \"Married\", \"Single\", \"Married\", \"Divorced\", \"Married\", \"Divorced\", \"Single\", \"Married\", \"Single\"],\n",
    "    \"Taxable Income\": [\"125K\", \"100K\", \"70K\", \"120K\", \"95K\", \"60K\", \"220K\", \"85K\", \"75K\", \"90K\"],\n",
    "    \"Cheat\": [\"No\", \"No\", \"No\", \"No\", \"Yes\", \"No\", \"No\", \"Yes\", \"No\", \"Yes\"]\n",
    "}\n",
    "\n",
    "df = pd.DataFrame(data)\n",
    "print(df)\n",
    "      "
   ]
  },
  {
   "cell_type": "markdown",
   "id": "c0cdb70d-957d-4d31-be53-0b797a676ad7",
   "metadata": {},
   "source": [
    "Q2.From the above table that you have created, locate row 0, 4, 7 and 8 using DataFrame."
   ]
  },
  {
   "cell_type": "code",
   "execution_count": 5,
   "id": "9e2af654-b424-4394-a851-4ded74b48c45",
   "metadata": {},
   "outputs": [
    {
     "name": "stdout",
     "output_type": "stream",
     "text": [
      "   Tid Refund Marital Status Taxable Income Cheat\n",
      "0    1    Yes         Single           125K    No\n",
      "4    5     No       Divorced            95K   Yes\n",
      "7    8     No         Single            85K   Yes\n",
      "8    9     No        Married            75K    No\n"
     ]
    }
   ],
   "source": [
    "print(df.iloc[[0,4,7,8]])\n"
   ]
  },
  {
   "cell_type": "markdown",
   "id": "c7ac2857-17cd-4e63-9f54-ba70b8300a29",
   "metadata": {},
   "source": [
    "Q3. Navigate the DataFrame and do the following task for the table created in question 1:\n",
    "\n",
    "Select row from index 3 to 7.\n",
    "Select row from index 4 to 8, and column 2 to 4.\n",
    "Select all rows with column index 1 to 3 (include index 3 during selection)."
   ]
  },
  {
   "cell_type": "code",
   "execution_count": 8,
   "id": "49024b6c-c32c-436a-8e86-ab692d0559b6",
   "metadata": {},
   "outputs": [
    {
     "name": "stdout",
     "output_type": "stream",
     "text": [
      "   Tid Refund Marital Status Taxable Income Cheat\n",
      "3    4    Yes        Married           120K    No\n",
      "4    5     No       Divorced            95K   Yes\n",
      "5    6     No        Married            60K    No\n",
      "6    7    Yes       Divorced           220K    No\n",
      "7    8     No         Single            85K   Yes\n",
      "  Marital Status Taxable Income Cheat\n",
      "4       Divorced            95K   Yes\n",
      "5        Married            60K    No\n",
      "6       Divorced           220K    No\n",
      "7         Single            85K   Yes\n",
      "8        Married            75K    No\n",
      "  Refund Marital Status Taxable Income\n",
      "0    Yes         Single           125K\n",
      "1     No        Married           100K\n",
      "2     No         Single            70K\n",
      "3    Yes        Married           120K\n",
      "4     No       Divorced            95K\n",
      "5     No        Married            60K\n",
      "6    Yes       Divorced           220K\n",
      "7     No         Single            85K\n",
      "8     No        Married            75K\n",
      "9     No         Single            90K\n"
     ]
    }
   ],
   "source": [
    "print(df.iloc[3:8]) \n",
    "print(df.iloc[4:9,2:5])\n",
    "print(df.iloc[:,1:4])\n"
   ]
  },
  {
   "cell_type": "markdown",
   "id": "55b1fa1f-dded-4d3e-9ce6-2dea1c95f076",
   "metadata": {},
   "source": [
    "Q4. Read a csv file and display its first five rows."
   ]
  },
  {
   "cell_type": "code",
   "execution_count": 50,
   "id": "7ddb346f-561a-4fd0-9cec-3dc9bfce3e66",
   "metadata": {},
   "outputs": [
    {
     "name": "stdout",
     "output_type": "stream",
     "text": [
      "   Id  SepalLengthCm  SepalWidthCm  PetalLengthCm  PetalWidthCm      Species\n",
      "0   1            5.1           3.5            1.4           0.2  Iris-setosa\n",
      "1   2            4.9           3.0            1.4           0.2  Iris-setosa\n",
      "2   3            4.7           3.2            1.3           0.2  Iris-setosa\n",
      "3   4            4.6           3.1            1.5           0.2  Iris-setosa\n",
      "4   5            5.0           3.6            1.4           0.2  Iris-setosa\n"
     ]
    }
   ],
   "source": [
    "import pandas as pd\n",
    "df=pd.read_csv(\"Iris.csv\")\n",
    "print(df.head())"
   ]
  },
  {
   "cell_type": "markdown",
   "id": "13fcf1b6-b286-48b3-891e-390b9c18ab3d",
   "metadata": {},
   "source": [
    "5. From the csv file (uploaded in the Q.4) delete row 4, and delete column 3. Display the result."
   ]
  },
  {
   "cell_type": "code",
   "execution_count": 52,
   "id": "819fed91-23f5-43a9-8bec-e851585e4b5b",
   "metadata": {},
   "outputs": [
    {
     "name": "stdout",
     "output_type": "stream",
     "text": [
      "      Id  SepalLengthCm  SepalWidthCm  PetalWidthCm         Species\n",
      "0      1            5.1           3.5           0.2     Iris-setosa\n",
      "1      2            4.9           3.0           0.2     Iris-setosa\n",
      "2      3            4.7           3.2           0.2     Iris-setosa\n",
      "3      4            4.6           3.1           0.2     Iris-setosa\n",
      "5      6            5.4           3.9           0.4     Iris-setosa\n",
      "..   ...            ...           ...           ...             ...\n",
      "145  146            6.7           3.0           2.3  Iris-virginica\n",
      "146  147            6.3           2.5           1.9  Iris-virginica\n",
      "147  148            6.5           3.0           2.0  Iris-virginica\n",
      "148  149            6.2           3.4           2.3  Iris-virginica\n",
      "149  150            5.9           3.0           1.8  Iris-virginica\n",
      "\n",
      "[149 rows x 5 columns]\n"
     ]
    }
   ],
   "source": [
    "df.drop(4,axis=0,inplace=True)\n",
    "df.drop(df.columns[3],axis=1,inplace=True)\n",
    "print(df)\n",
    "     "
   ]
  },
  {
   "cell_type": "markdown",
   "id": "12d66b1a-e975-44e6-8d78-08529f7d9ae4",
   "metadata": {},
   "source": [
    "Q.6\tCreate a sample dataset (employees.csv) containing information about employees in a company"
   ]
  },
  {
   "cell_type": "code",
   "execution_count": 54,
   "id": "f505a6be-efda-4aaf-a9a8-d94db4b43ab7",
   "metadata": {},
   "outputs": [
    {
     "name": "stdout",
     "output_type": "stream",
     "text": [
      "   Employee id     Name Department  Age  Salary  Years_Of_Experience  \\\n",
      "0          101    Alice         HR   29   50000                    4   \n",
      "1          102      Bob         IT   34   70000                    8   \n",
      "2          103  Charlie         IT   41   65000                   10   \n",
      "3          104    Diana  Marketing   28   55000                    3   \n",
      "4          105   Edward      Sales   38   60000                   12   \n",
      "\n",
      "  Joining_Date  Gender  Bonus  Rating  \n",
      "0   2020-03-15  Female   5000     4.5  \n",
      "1   2017-07-19    Male   7000     4.0  \n",
      "2   2013-06-01    Male   6000     3.8  \n",
      "3   2021-02-10  Female   4500     4.7  \n",
      "4   2010-11-25    Male   5000     3.5  \n"
     ]
    }
   ],
   "source": [
    "data=pd.DataFrame({\n",
    "    \"Employee id\":[101,102,103,104,105],\n",
    "    \"Name\":[\"Alice\",\"Bob\",\"Charlie\",\"Diana\",\"Edward\"],\n",
    "    \"Department\":[\"HR\",\"IT\",\"IT\",\"Marketing\",\"Sales\"],\n",
    "    \"Age\":[29,34,41,28,38],\n",
    "    \"Salary\":[50000,70000,65000,55000,60000],\n",
    "    \"Years_Of_Experience\":[4,8,10,3,12],\n",
    "    \"Joining_Date\":[\"2020-03-15\",\"2017-07-19\",\"2013-06-01\",\"2021-02-10\",\"2010-11-25\"],\n",
    "    \"Gender\":[\"Female\",\"Male\",\"Male\",\"Female\",\"Male\"],\n",
    "    \"Bonus\":[5000,7000,6000,4500,5000],\n",
    "    \"Rating\":[4.5,4.0,3.8,4.7,3.5]\n",
    "})\n",
    "print(data)\n",
    "     "
   ]
  },
  {
   "cell_type": "markdown",
   "id": "80286b51-b465-4492-a395-9b1e2f2e0931",
   "metadata": {},
   "source": [
    "WAP to determine the following using dataset in Q6: \n",
    "a)\tShape (number of rows and columns) of the DataFrame. \n",
    "b)\tSummary of the DataFrame that includes the data types and non-null counts for each column. \n",
    "c)\tGenerate descriptive statistics. \n",
    "\n",
    "g)\tAdd a new column that categorizes employees based on their performance rating: \n",
    "i.\tExcellent for ratings >= 4.5 \n",
    "ii.\tGood for ratings >= 4.0 but < 4.5 \n",
    "iii.\tAverage for ratings < 4.0  \n",
    "h)\tIdentify missing values in the DataFrame. \n",
    "i)\tRename the Employee_ID column to ID. \n",
    "j)\tFind all employees who: \n",
    "i.\tHave more than 5 years of experience. \n",
    "ii.\tBelong to the IT department. \n",
    "k)\tModify the dataset by adding a new column, Tax, which deducts 10% of the Salary.  \n",
    "l)\tSave the modified DataFrame (with added columns) to a new CSV file\n"
   ]
  },
  {
   "cell_type": "code",
   "execution_count": 56,
   "id": "241d0e12-55ae-4d54-a11e-27908b3b7949",
   "metadata": {},
   "outputs": [
    {
     "name": "stdout",
     "output_type": "stream",
     "text": [
      "(5, 10)\n",
      "<class 'pandas.core.frame.DataFrame'>\n",
      "RangeIndex: 5 entries, 0 to 4\n",
      "Data columns (total 10 columns):\n",
      " #   Column               Non-Null Count  Dtype  \n",
      "---  ------               --------------  -----  \n",
      " 0   Employee id          5 non-null      int64  \n",
      " 1   Name                 5 non-null      object \n",
      " 2   Department           5 non-null      object \n",
      " 3   Age                  5 non-null      int64  \n",
      " 4   Salary               5 non-null      int64  \n",
      " 5   Years_Of_Experience  5 non-null      int64  \n",
      " 6   Joining_Date         5 non-null      object \n",
      " 7   Gender               5 non-null      object \n",
      " 8   Bonus                5 non-null      int64  \n",
      " 9   Rating               5 non-null      float64\n",
      "dtypes: float64(1), int64(5), object(4)\n",
      "memory usage: 532.0+ bytes\n",
      "None\n",
      "       Employee id        Age       Salary  Years_Of_Experience   Bonus  \\\n",
      "count     5.000000   5.000000      5.00000             5.000000     5.0   \n",
      "mean    103.000000  34.000000  60000.00000             7.400000  5500.0   \n",
      "std       1.581139   5.612486   7905.69415             3.847077  1000.0   \n",
      "min     101.000000  28.000000  50000.00000             3.000000  4500.0   \n",
      "25%     102.000000  29.000000  55000.00000             4.000000  5000.0   \n",
      "50%     103.000000  34.000000  60000.00000             8.000000  5000.0   \n",
      "75%     104.000000  38.000000  65000.00000            10.000000  6000.0   \n",
      "max     105.000000  41.000000  70000.00000            12.000000  7000.0   \n",
      "\n",
      "         Rating  \n",
      "count  5.000000  \n",
      "mean   4.100000  \n",
      "std    0.494975  \n",
      "min    3.500000  \n",
      "25%    3.800000  \n",
      "50%    4.000000  \n",
      "75%    4.500000  \n",
      "max    4.700000  \n"
     ]
    }
   ],
   "source": [
    "print(data.shape)\n",
    "print(data.info())\n",
    "print(data.describe())\n",
    "     "
   ]
  },
  {
   "cell_type": "markdown",
   "id": "22454eac-9aea-4cb8-abc1-6f69ad42aaad",
   "metadata": {},
   "source": [
    "d)\tDisplay the first 5 rows and last 3 rows of the dataset. "
   ]
  },
  {
   "cell_type": "code",
   "execution_count": 58,
   "id": "4c912ad0-c394-4cfc-ad16-f0e41236160f",
   "metadata": {},
   "outputs": [
    {
     "name": "stdout",
     "output_type": "stream",
     "text": [
      "   Employee id     Name Department  Age  Salary  Years_Of_Experience  \\\n",
      "0          101    Alice         HR   29   50000                    4   \n",
      "1          102      Bob         IT   34   70000                    8   \n",
      "2          103  Charlie         IT   41   65000                   10   \n",
      "3          104    Diana  Marketing   28   55000                    3   \n",
      "4          105   Edward      Sales   38   60000                   12   \n",
      "\n",
      "  Joining_Date  Gender  Bonus  Rating  \n",
      "0   2020-03-15  Female   5000     4.5  \n",
      "1   2017-07-19    Male   7000     4.0  \n",
      "2   2013-06-01    Male   6000     3.8  \n",
      "3   2021-02-10  Female   4500     4.7  \n",
      "4   2010-11-25    Male   5000     3.5  \n",
      "   Employee id     Name Department  Age  Salary  Years_Of_Experience  \\\n",
      "2          103  Charlie         IT   41   65000                   10   \n",
      "3          104    Diana  Marketing   28   55000                    3   \n",
      "4          105   Edward      Sales   38   60000                   12   \n",
      "\n",
      "  Joining_Date  Gender  Bonus  Rating  \n",
      "2   2013-06-01    Male   6000     3.8  \n",
      "3   2021-02-10  Female   4500     4.7  \n",
      "4   2010-11-25    Male   5000     3.5  \n"
     ]
    }
   ],
   "source": [
    "print(data.head(5))\n",
    "print(data.tail(3))"
   ]
  },
  {
   "cell_type": "markdown",
   "id": "955f1334-e9cd-4b7f-99c9-68366d5a1b8d",
   "metadata": {},
   "source": [
    "e)\tCalculate the following statistics from the dataset: \n",
    "i.\tThe average salary of employees. \n",
    "ii.\tThe total bonus paid to all employees. iii. The youngest employee's age. \n",
    "iv. The highest performance rating."
   ]
  },
  {
   "cell_type": "code",
   "execution_count": 60,
   "id": "33f64c40-7b5a-42e8-9ad5-89e2d06b574d",
   "metadata": {},
   "outputs": [
    {
     "name": "stdout",
     "output_type": "stream",
     "text": [
      "60000.0\n",
      "27500\n",
      "28\n",
      "4.7\n"
     ]
    }
   ],
   "source": [
    "avg=data[\"Salary\"].mean()\n",
    "print(avg)\n",
    "\n",
    "bonus=data[\"Bonus\"].sum()\n",
    "print(bonus)\n",
    "\n",
    "y=data[\"Age\"].min()\n",
    "print(y)\n",
    "\n",
    "rat=data[\"Rating\"].max()\n",
    "print(rat)\n",
    "     \n"
   ]
  },
  {
   "cell_type": "markdown",
   "id": "ad459643-d082-485b-9d56-96e955f48297",
   "metadata": {},
   "source": [
    "f)\tSort the DataFrame by the Salary column in descending order. "
   ]
  },
  {
   "cell_type": "code",
   "execution_count": null,
   "id": "13140b8f-c24c-4f5c-a348-693257cebd76",
   "metadata": {},
   "outputs": [],
   "source": [
    "sorted=data.sort_values(by=\"Salary\",ascending=False)\n",
    "print(sorted.head())"
   ]
  },
  {
   "cell_type": "markdown",
   "id": "6067ba5c-c84d-4941-a7b3-f1b7e7192dc5",
   "metadata": {},
   "source": [
    "g)\tAdd a new column that categorizes employees based on their performance rating: \n",
    "i.\tExcellent for ratings >= 4.5 \n",
    "ii.\tGood for ratings >= 4.0 but < 4.5 \n",
    "iii.\tAverage for ratings < 4.0  "
   ]
  },
  {
   "cell_type": "code",
   "execution_count": 62,
   "id": "98476089-175b-4343-aa5a-724f8e081340",
   "metadata": {},
   "outputs": [
    {
     "name": "stdout",
     "output_type": "stream",
     "text": [
      "   Employee id     Name Department  Age  Salary  Years_Of_Experience  \\\n",
      "0          101    Alice         HR   29   50000                    4   \n",
      "1          102      Bob         IT   34   70000                    8   \n",
      "2          103  Charlie         IT   41   65000                   10   \n",
      "3          104    Diana  Marketing   28   55000                    3   \n",
      "4          105   Edward      Sales   38   60000                   12   \n",
      "\n",
      "  Joining_Date  Gender  Bonus  Rating Performance  \n",
      "0   2020-03-15  Female   5000     4.5   Excellent  \n",
      "1   2017-07-19    Male   7000     4.0        Good  \n",
      "2   2013-06-01    Male   6000     3.8     Average  \n",
      "3   2021-02-10  Female   4500     4.7   Excellent  \n",
      "4   2010-11-25    Male   5000     3.5     Average  \n"
     ]
    }
   ],
   "source": [
    "def category(rating):\n",
    "  if(rating>=4.5):\n",
    "    return \"Excellent\"\n",
    "  elif (rating>=4.0 and rating<4.5):\n",
    "    return \"Good\"\n",
    "  else:\n",
    "    return \"Average\"\n",
    "\n",
    "data[\"Performance\"]=data[\"Rating\"].apply(category)\n",
    "print(data.head())\n",
    "     \n"
   ]
  },
  {
   "cell_type": "code",
   "execution_count": null,
   "id": "d8b27488-bf26-45b1-859a-92ca39fc130a",
   "metadata": {},
   "outputs": [],
   "source": [
    "h)\tIdentify missing values in the DataFrame. "
   ]
  },
  {
   "cell_type": "code",
   "execution_count": 64,
   "id": "2a87ceae-170a-4c83-a2d0-61cfdae8b88f",
   "metadata": {},
   "outputs": [
    {
     "name": "stdout",
     "output_type": "stream",
     "text": [
      "   Employee id   Name  Department    Age  Salary  Years_Of_Experience  \\\n",
      "0        False  False       False  False   False                False   \n",
      "1        False  False       False  False   False                False   \n",
      "2        False  False       False  False   False                False   \n",
      "3        False  False       False  False   False                False   \n",
      "4        False  False       False  False   False                False   \n",
      "\n",
      "   Joining_Date  Gender  Bonus  Rating  Performance  \n",
      "0         False   False  False   False        False  \n",
      "1         False   False  False   False        False  \n",
      "2         False   False  False   False        False  \n",
      "3         False   False  False   False        False  \n",
      "4         False   False  False   False        False  \n"
     ]
    }
   ],
   "source": [
    "miss=data.isnull()\n",
    "print(miss)"
   ]
  },
  {
   "cell_type": "markdown",
   "id": "17fec3dd-f42f-47a8-9386-5944433155c2",
   "metadata": {},
   "source": [
    "i)\tRename the Employee_ID column to ID. "
   ]
  },
  {
   "cell_type": "code",
   "execution_count": 66,
   "id": "9172e733-37c5-48c4-91aa-65d625212496",
   "metadata": {},
   "outputs": [
    {
     "name": "stdout",
     "output_type": "stream",
     "text": [
      "    ID     Name Department  Age  Salary  Years_Of_Experience Joining_Date  \\\n",
      "0  101    Alice         HR   29   50000                    4   2020-03-15   \n",
      "1  102      Bob         IT   34   70000                    8   2017-07-19   \n",
      "2  103  Charlie         IT   41   65000                   10   2013-06-01   \n",
      "3  104    Diana  Marketing   28   55000                    3   2021-02-10   \n",
      "4  105   Edward      Sales   38   60000                   12   2010-11-25   \n",
      "\n",
      "   Gender  Bonus  Rating Performance  \n",
      "0  Female   5000     4.5   Excellent  \n",
      "1    Male   7000     4.0        Good  \n",
      "2    Male   6000     3.8     Average  \n",
      "3  Female   4500     4.7   Excellent  \n",
      "4    Male   5000     3.5     Average  \n"
     ]
    }
   ],
   "source": [
    "data.rename(columns={\"Employee id\":\"ID\"},inplace=True)\n",
    "print(data.head())\n",
    "     "
   ]
  },
  {
   "cell_type": "markdown",
   "id": "e793acaf-74bb-4285-8a6f-14a2bbe9b3ac",
   "metadata": {},
   "source": [
    "j)\tFind all employees who: \n",
    "i.\tHave more than 5 years of experience. \n",
    "ii.\tBelong to the IT department. "
   ]
  },
  {
   "cell_type": "code",
   "execution_count": 68,
   "id": "faa59d95-7bb3-43f7-aba0-4485b8dc98f3",
   "metadata": {},
   "outputs": [
    {
     "name": "stdout",
     "output_type": "stream",
     "text": [
      "0    False\n",
      "1     True\n",
      "2     True\n",
      "3    False\n",
      "4     True\n",
      "Name: Years_Of_Experience, dtype: bool\n",
      "0    False\n",
      "1     True\n",
      "2     True\n",
      "3    False\n",
      "4    False\n",
      "Name: Department, dtype: bool\n"
     ]
    }
   ],
   "source": [
    "print(data[\"Years_Of_Experience\"]>5)\n",
    "print(data[\"Department\"]==\"IT\")"
   ]
  },
  {
   "cell_type": "markdown",
   "id": "fe7c59f5-f4b3-4ab7-bc50-e11fecae38f3",
   "metadata": {},
   "source": [
    "k)\tModify the dataset by adding a new column, Tax, which deducts 10% of the Salary."
   ]
  },
  {
   "cell_type": "code",
   "execution_count": 72,
   "id": "bf8693ca-9c1e-4614-83d3-712a739b639c",
   "metadata": {},
   "outputs": [
    {
     "name": "stdout",
     "output_type": "stream",
     "text": [
      "    ID     Name Department  Age  Salary  Years_Of_Experience Joining_Date  \\\n",
      "1  102      Bob         IT   34   70000                    8   2017-07-19   \n",
      "2  103  Charlie         IT   41   65000                   10   2013-06-01   \n",
      "\n",
      "  Gender  Bonus  Rating Performance  \n",
      "1   Male   7000     4.0        Good  \n",
      "2   Male   6000     3.8     Average  \n",
      "    ID     Name Department  Age  Salary  Years_Of_Experience Joining_Date  \\\n",
      "0  101    Alice         HR   29   50000                    4   2020-03-15   \n",
      "1  102      Bob         IT   34   70000                    8   2017-07-19   \n",
      "2  103  Charlie         IT   41   65000                   10   2013-06-01   \n",
      "3  104    Diana  Marketing   28   55000                    3   2021-02-10   \n",
      "4  105   Edward      Sales   38   60000                   12   2010-11-25   \n",
      "\n",
      "   Gender  Bonus  Rating Performance     Tax  \n",
      "0  Female   5000     4.5   Excellent  5000.0  \n",
      "1    Male   7000     4.0        Good  7000.0  \n",
      "2    Male   6000     3.8     Average  6500.0  \n",
      "3  Female   4500     4.7   Excellent  5500.0  \n",
      "4    Male   5000     3.5     Average  6000.0  \n"
     ]
    }
   ],
   "source": [
    "filtered_data = data[(data[\"Years_Of_Experience\"] > 5) & (data[\"Department\"] == \"IT\")]\n",
    "print(filtered_data)\n",
    "data [\"Tax\"]=data[\"Salary\"]*0.10\n",
    "print(data.head())\n",
    "     \n",
    "     "
   ]
  },
  {
   "cell_type": "markdown",
   "id": "8625027e-ab0d-4a95-8d34-dc82a4552ec8",
   "metadata": {},
   "source": [
    "l)\tSave the modified DataFrame (with added columns) to a new CSV file\n"
   ]
  },
  {
   "cell_type": "code",
   "execution_count": 74,
   "id": "93cbd4fb-2419-47b6-b869-5a799ce7462e",
   "metadata": {},
   "outputs": [],
   "source": [
    "data.to_csv(\"ans.csv\",index=False)"
   ]
  },
  {
   "cell_type": "code",
   "execution_count": null,
   "id": "ec4e6aea-bf5e-43d4-9fe8-2fdb7bdebbe1",
   "metadata": {},
   "outputs": [],
   "source": []
  }
 ],
 "metadata": {
  "kernelspec": {
   "display_name": "Python [conda env:base] *",
   "language": "python",
   "name": "conda-base-py"
  },
  "language_info": {
   "codemirror_mode": {
    "name": "ipython",
    "version": 3
   },
   "file_extension": ".py",
   "mimetype": "text/x-python",
   "name": "python",
   "nbconvert_exporter": "python",
   "pygments_lexer": "ipython3",
   "version": "3.12.7"
  }
 },
 "nbformat": 4,
 "nbformat_minor": 5
}
