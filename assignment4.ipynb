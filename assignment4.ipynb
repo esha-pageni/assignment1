{
 "cells": [
  {
   "cell_type": "markdown",
   "id": "96a4dd23-c196-4db4-9bee-f71f41ea6ccd",
   "metadata": {},
   "source": [
    "Q.1\n",
    "WRITE A PROGRAM TO CREATE A NUMPY 1D ARRAY WITH 5 ELEMENTS AND PERFORM BASIC OPERATIONS LIKE :\n",
    "1)..ADDITION OF 2 IN ALL ELEMENTS\n",
    "2)..MULTIPLY 3 WITH ALL THE ELEMENTS\n",
    "3)..DIVIDE EVERY ELEMENT BY 2"
   ]
  },
  {
   "cell_type": "code",
   "execution_count": 1,
   "id": "ea846b46-1aef-45b7-a8bb-4688f1b4be98",
   "metadata": {},
   "outputs": [
    {
     "name": "stdout",
     "output_type": "stream",
     "text": [
      "addition: [12 22 32 42 52]\n",
      "multplication: [ 30  60  90 120 150]\n",
      "division: [ 5. 10. 15. 20. 25.]\n"
     ]
    }
   ],
   "source": [
    "import numpy as np\n",
    "elements=np.array([10,20,30,40,50])\n",
    "add_result=elements+2\n",
    "print(\"addition:\",add_result)\n",
    "multiply=elements*3\n",
    "print(\"multplication:\",multiply)\n",
    "divide=elements/2\n",
    "print(\"division:\",divide)"
   ]
  },
  {
   "cell_type": "markdown",
   "id": "78fcf641-e62f-4479-ba1b-7f0c922daed8",
   "metadata": {},
   "source": [
    "Q.2\n",
    "A)REVERSE THE NUMPY ARRAY:ARR=NP.ARRAY([1,2,3,6,4,5])"
   ]
  },
  {
   "cell_type": "code",
   "execution_count": 23,
   "id": "ed68bdf7-2068-4053-9e5c-4445c81a6183",
   "metadata": {},
   "outputs": [
    {
     "name": "stdout",
     "output_type": "stream",
     "text": [
      "reversed array : [5 4 6 3 2 1]\n"
     ]
    }
   ],
   "source": [
    "import numpy as np\n",
    "arr=np.array([1,2,3,6,4,5])\n",
    "reversed_arr=arr[::-1]\n",
    "print(\"reversed array :\",reversed_arr)"
   ]
  },
  {
   "cell_type": "markdown",
   "id": "35f4b2eb-a084-4f13-83ac-bf6bcab588f4",
   "metadata": {},
   "source": [
    "B)FIND THE MOST FREQUENT VALUE AND THEIR INDICES(S) IN THE FOLLOWING ARRAYS:\n",
    "I. X=NP.ARRAY([1,2,3,4,5,1,2,1,1,1])\n",
    "II.Y=NP.ARRAY([1,1,1,2,3,4,2,4,3,3])"
   ]
  },
  {
   "cell_type": "code",
   "execution_count": 27,
   "id": "35236176-e74f-46e6-b95c-b4cdfc829b8a",
   "metadata": {},
   "outputs": [
    {
     "name": "stdout",
     "output_type": "stream",
     "text": [
      "most frequent value in x:(1, 5),indices:(array([0, 5, 7, 8, 9], dtype=int64),)\n",
      "most frequent value in y:(1, 3),indices:(array([0, 1, 2], dtype=int64),)\n"
     ]
    }
   ],
   "source": [
    "import numpy as np\n",
    "from collections import Counter\n",
    "def most_frequent(arr):\n",
    "    count=Counter(arr)\n",
    "    most_common=count.most_common(1)[0]\n",
    "    indices=np.where(arr==most_common[0])\n",
    "    return most_common ,indices\n",
    "x=np.array([1,2,3,4,5,1,2,1,1,1])\n",
    "y=np.array([1,1,1,2,3,4,2,4,3,3])\n",
    "xvalue,xindices=most_frequent(x)\n",
    "yvalue,yindices=most_frequent(y)\n",
    "print(f\"most frequent value in x:{xvalue},indices:{xindices}\")\n",
    "print(f\"most frequent value in y:{yvalue},indices:{yindices}\")"
   ]
  },
  {
   "cell_type": "markdown",
   "id": "555d0ce7-9285-4822-87b4-c53c640bb8b7",
   "metadata": {},
   "source": [
    "Q.3\n",
    "FOR THE GIVEN 2-D ARRAY ARR=NP.ARRAY([10,20,30],[40,50,60],[70,80,90]),ACCESS ELEMENTS USING ROW AND COLUMN INDICES AS FOLLOWS:\n",
    "A) ACCESS 1ST ROW,2ND COLUMN\n",
    "B) ACCESS 3RD ROW ,1ST COLUMN"
   ]
  },
  {
   "cell_type": "code",
   "execution_count": 33,
   "id": "83626da9-7f47-4ec0-a0bf-25f881fb8856",
   "metadata": {},
   "outputs": [
    {
     "name": "stdout",
     "output_type": "stream",
     "text": [
      "the element of first row and secind column is: 20\n",
      "the element f third row and first column is : 70\n"
     ]
    }
   ],
   "source": [
    "import numpy as np\n",
    "arr=np.array([[10,20,30],[40,50,60],[70,80,90]])\n",
    "element1=arr[0,1]\n",
    "print(\"the element of first row and secind column is:\",element1)\n",
    "element2=arr[2,0]\n",
    "print(\"the element f third row and first column is :\",element2)"
   ]
  },
  {
   "cell_type": "markdown",
   "id": "63264173-6f42-458e-bd7b-8f1b5b455183",
   "metadata": {},
   "source": [
    "Q.4\n",
    "WRITE PROGRAM TO CREATE AN 1-D NUMPY ARRAY NAMED <<YOUR NAME>> WITH EVENLY SPACED 25 NUMBERS FROM 10 TO 100 USING LINSPACE().PRINT THE DIMENSIONS OF THE ARRAY, SHAPE,TOTAL ELEMENTS,THE DATA TYPE OF EACH ELEMENT AND TOTAL NUMBER OF BYTES CONSUMED BY THE ARRAY.FIND THE TRANSPOSE OF THIS ARRAY USING RESHAPE() ATTTRIBUTE.CAN WE DO THE SAME WUTH .T ATTRIBUTE?"
   ]
  },
  {
   "cell_type": "code",
   "execution_count": 37,
   "id": "167e5fb3-9807-4fec-a94a-b54cc96eb93a",
   "metadata": {},
   "outputs": [
    {
     "name": "stdout",
     "output_type": "stream",
     "text": [
      "Array: [ 10.    13.75  17.5   21.25  25.    28.75  32.5   36.25  40.    43.75\n",
      "  47.5   51.25  55.    58.75  62.5   66.25  70.    73.75  77.5   81.25\n",
      "  85.    88.75  92.5   96.25 100.  ]\n",
      "Dimensions: 1\n",
      "Shape: (25,)\n",
      "Total Elements: 25\n",
      "Data Type: float64\n",
      "Total Bytes Consumed: 200\n",
      "\n",
      "Transpose using reshape():\n",
      " [[ 10.  ]\n",
      " [ 13.75]\n",
      " [ 17.5 ]\n",
      " [ 21.25]\n",
      " [ 25.  ]\n",
      " [ 28.75]\n",
      " [ 32.5 ]\n",
      " [ 36.25]\n",
      " [ 40.  ]\n",
      " [ 43.75]\n",
      " [ 47.5 ]\n",
      " [ 51.25]\n",
      " [ 55.  ]\n",
      " [ 58.75]\n",
      " [ 62.5 ]\n",
      " [ 66.25]\n",
      " [ 70.  ]\n",
      " [ 73.75]\n",
      " [ 77.5 ]\n",
      " [ 81.25]\n",
      " [ 85.  ]\n",
      " [ 88.75]\n",
      " [ 92.5 ]\n",
      " [ 96.25]\n",
      " [100.  ]]\n",
      "\n",
      "Transpose using T attribute:\n",
      " [ 10.    13.75  17.5   21.25  25.    28.75  32.5   36.25  40.    43.75\n",
      "  47.5   51.25  55.    58.75  62.5   66.25  70.    73.75  77.5   81.25\n",
      "  85.    88.75  92.5   96.25 100.  ]\n"
     ]
    }
   ],
   "source": [
    "import numpy as np\n",
    "Your_Name = np.linspace(10, 100, 25)  \n",
    "print(\"Array:\", Your_Name)\n",
    "print(\"Dimensions:\", Your_Name.ndim) \n",
    "print(\"Shape:\", Your_Name.shape) \n",
    "print(\"Total Elements:\", Your_Name.size)  \n",
    "print(\"Data Type:\", Your_Name.dtype) \n",
    "print(\"Total Bytes Consumed:\", Your_Name.nbytes)  \n",
    "transpose_array = Your_Name.reshape(25, 1)  \n",
    "print(\"\\nTranspose using reshape():\\n\", transpose_array)\n",
    "transpose_T = Your_Name.T  \n",
    "print(\"\\nTranspose using T attribute:\\n\", transpose_T)"
   ]
  },
  {
   "cell_type": "markdown",
   "id": "eca02cd7-7fc6-4f56-8f7d-6ace20e17236",
   "metadata": {},
   "source": [
    "Q.5\n",
    "CREATE A 2-D ARRAY OF THREE ROWS AND FOUR COLUMN ,NAMED UCS420_<YOURNAME>> WITH THE FOLLOWING VALUES-10,20,30,40,50,60,70,80,90,15,20,35.\n",
    "COMPUTE THE MEAN ,MEDIAN, MAX,MIN,UNIQUE ELEMENTS.RESHAPE THE ARRAY TO FOUR ROWS AND THREE COLUMNS AND NAME IT AS RESHAPED _UCS420<YOUR_NAME>>.\n",
    "RESIZE THE ARRAY TO TWO ROWS AND THREE COLUMNS AND NAMED IT AS RESIZED_UCS420<YOUR_NAME>>."
   ]
  },
  {
   "cell_type": "code",
   "execution_count": 47,
   "id": "ce79e84a-2438-45b0-b3e5-f01bc54b7047",
   "metadata": {},
   "outputs": [
    {
     "name": "stdout",
     "output_type": "stream",
     "text": [
      "mean: 43.333333333333336\n",
      "medain: 37.5\n",
      "max: 90\n",
      "min: 10\n",
      "unique elements: [10 15 20 30 35 40 50 60 70 80 90]\n",
      "\n",
      " reshaped array :\n",
      " [[10 20 30]\n",
      " [40 50 60]\n",
      " [70 80 90]\n",
      " [15 20 35]]\n",
      "\n",
      "resized array (2*3):\n",
      " [[10 20 30]\n",
      " [40 50 60]]\n"
     ]
    }
   ],
   "source": [
    "import numpy as np\n",
    "ucs420_yourname=np.array([[10,20,30,40],[50,60,70,80],[90,15,20,35]])\n",
    "mean_value=np.mean(ucs420_yourname)\n",
    "median_value=np.median(ucs420_yourname)\n",
    "max_value=np.max(ucs420_yourname)\n",
    "min_value=np.min(ucs420_yourname)\n",
    "unique_elements=np.unique(ucs420_yourname)\n",
    "print(\"mean:\",mean_value)\n",
    "print(\"medain:\",median_value)\n",
    "print(\"max:\",max_value)\n",
    "print(\"min:\",min_value)\n",
    "print(\"unique elements:\",unique_elements)\n",
    "reshaped_ucs420_yourname=ucs420_yourname.reshape(4,3)\n",
    "print(\"\\n reshaped array :\\n\",reshaped_ucs420_yourname)\n",
    "resized_ucs420_yourname=np.resize(ucs420_yourname,(2,3))\n",
    "print(\"\\nresized array (2*3):\\n\",resized_ucs420_yourname)\n"
   ]
  }
 ],
 "metadata": {
  "kernelspec": {
   "display_name": "Python [conda env:base] *",
   "language": "python",
   "name": "conda-base-py"
  },
  "language_info": {
   "codemirror_mode": {
    "name": "ipython",
    "version": 3
   },
   "file_extension": ".py",
   "mimetype": "text/x-python",
   "name": "python",
   "nbconvert_exporter": "python",
   "pygments_lexer": "ipython3",
   "version": "3.12.7"
  }
 },
 "nbformat": 4,
 "nbformat_minor": 5
}
