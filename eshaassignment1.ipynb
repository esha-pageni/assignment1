{
 "cells": [
  {
   "cell_type": "markdown",
   "metadata": {},
   "source": [
    "1.WRITE A PYTHON PROGRAM TO PRINT \"ANYTHING YOU FIND COOL\""
   ]
  },
  {
   "cell_type": "code",
   "execution_count": 866,
   "metadata": {},
   "outputs": [
    {
     "name": "stdout",
     "output_type": "stream",
     "text": [
      "python \n"
     ]
    }
   ],
   "source": [
    "print(\"python \")"
   ]
  },
  {
   "cell_type": "markdown",
   "metadata": {},
   "source": [
    "2.WRITE A PROGRAM TO ADD TWO NUMBER AND PRINT THE RESULT"
   ]
  },
  {
   "cell_type": "code",
   "execution_count": 867,
   "metadata": {},
   "outputs": [
    {
     "name": "stdout",
     "output_type": "stream",
     "text": [
      "10\n"
     ]
    }
   ],
   "source": [
    "num1=3\n",
    "num2=7\n",
    "add=num1+num2\n",
    "print(add)"
   ]
  },
  {
   "cell_type": "markdown",
   "metadata": {},
   "source": [
    "CONCATENATE TWO STRINGS AND PRINT THE RESULT"
   ]
  },
  {
   "cell_type": "code",
   "execution_count": 868,
   "metadata": {},
   "outputs": [
    {
     "name": "stdout",
     "output_type": "stream",
     "text": [
      "the concatenated string is:  eshapageni\n"
     ]
    }
   ],
   "source": [
    "str1=\"esha\"\n",
    "str2=\"pageni\"\n",
    "result=str1+str2\n",
    "print(\"the concatenated string is: \",result)"
   ]
  },
  {
   "cell_type": "markdown",
   "metadata": {},
   "source": [
    "CONCATENATE A STRING AND A NUMBER"
   ]
  },
  {
   "cell_type": "code",
   "execution_count": 869,
   "metadata": {},
   "outputs": [
    {
     "name": "stdout",
     "output_type": "stream",
     "text": [
      "assignment1\n"
     ]
    }
   ],
   "source": [
    "string=\"assignment\"\n",
    "integer=1\n",
    "result=string+str(integer)\n",
    "print(result)"
   ]
  },
  {
   "cell_type": "markdown",
   "metadata": {},
   "source": [
    "3.IF ELSE STATEMENTS\n",
    " CHECK IF NUMBER IS +VE,-VE,ZERO"
   ]
  },
  {
   "cell_type": "code",
   "execution_count": 870,
   "metadata": {},
   "outputs": [
    {
     "name": "stdout",
     "output_type": "stream",
     "text": [
      "the number is positive\n"
     ]
    }
   ],
   "source": [
    "number=3\n",
    "if number >0:\n",
    "    print(\"the number is positive\")\n",
    "elif number <0:\n",
    "    print(\"the number is negative\")\n",
    "else:\n",
    "    print(\"the number is zero\")"
   ]
  },
  {
   "cell_type": "markdown",
   "metadata": {},
   "source": [
    "IF NUMBER INTEGER IS ODD OR EVEN"
   ]
  },
  {
   "cell_type": "code",
   "execution_count": 871,
   "metadata": {},
   "outputs": [
    {
     "name": "stdout",
     "output_type": "stream",
     "text": [
      "the number is odd\n"
     ]
    }
   ],
   "source": [
    "integer=7\n",
    "if integer %2==0:\n",
    "    print(\"the number is even\")\n",
    "else:\n",
    "    print(\"the number is odd\")"
   ]
  },
  {
   "cell_type": "markdown",
   "metadata": {},
   "source": [
    "4.LOOPS\n",
    "TO PRINT NUMBER FROM 1 TO 10 USING FOR LOOP"
   ]
  },
  {
   "cell_type": "code",
   "execution_count": 872,
   "metadata": {},
   "outputs": [
    {
     "name": "stdout",
     "output_type": "stream",
     "text": [
      "1\n",
      "2\n",
      "3\n",
      "4\n",
      "5\n",
      "6\n",
      "7\n",
      "8\n",
      "9\n",
      "10\n"
     ]
    }
   ],
   "source": [
    "for d in range (1,11):\n",
    "    print(d)\n",
    "    d+=1"
   ]
  },
  {
   "cell_type": "markdown",
   "metadata": {},
   "source": [
    "TP PRINT 1 TO 10 USING WHILE LOOP"
   ]
  },
  {
   "cell_type": "code",
   "execution_count": 873,
   "metadata": {},
   "outputs": [
    {
     "name": "stdout",
     "output_type": "stream",
     "text": [
      "1\n",
      "2\n",
      "3\n",
      "4\n",
      "5\n",
      "6\n",
      "7\n",
      "8\n",
      "9\n",
      "10\n"
     ]
    }
   ],
   "source": [
    "I=1\n",
    "while I<=10:\n",
    "    print(I)\n",
    "    I+=1"
   ]
  },
  {
   "cell_type": "markdown",
   "metadata": {},
   "source": [
    "CALCULATE THE SUM OF THE NUMBERS FROM 1 TO 100 USING LOOP"
   ]
  },
  {
   "cell_type": "code",
   "execution_count": 874,
   "metadata": {},
   "outputs": [
    {
     "name": "stdout",
     "output_type": "stream",
     "text": [
      "1\n",
      "3\n",
      "6\n",
      "10\n",
      "15\n",
      "21\n",
      "28\n",
      "36\n",
      "45\n",
      "55\n",
      "66\n",
      "78\n",
      "91\n",
      "105\n",
      "120\n",
      "136\n",
      "153\n",
      "171\n",
      "190\n",
      "210\n",
      "231\n",
      "253\n",
      "276\n",
      "300\n",
      "325\n",
      "351\n",
      "378\n",
      "406\n",
      "435\n",
      "465\n",
      "496\n",
      "528\n",
      "561\n",
      "595\n",
      "630\n",
      "666\n",
      "703\n",
      "741\n",
      "780\n",
      "820\n",
      "861\n",
      "903\n",
      "946\n",
      "990\n",
      "1035\n",
      "1081\n",
      "1128\n",
      "1176\n",
      "1225\n",
      "1275\n",
      "1326\n",
      "1378\n",
      "1431\n",
      "1485\n",
      "1540\n",
      "1596\n",
      "1653\n",
      "1711\n",
      "1770\n",
      "1830\n",
      "1891\n",
      "1953\n",
      "2016\n",
      "2080\n",
      "2145\n",
      "2211\n",
      "2278\n",
      "2346\n",
      "2415\n",
      "2485\n",
      "2556\n",
      "2628\n",
      "2701\n",
      "2775\n",
      "2850\n",
      "2926\n",
      "3003\n",
      "3081\n",
      "3160\n",
      "3240\n",
      "3321\n",
      "3403\n",
      "3486\n",
      "3570\n",
      "3655\n",
      "3741\n",
      "3828\n",
      "3916\n",
      "4005\n",
      "4095\n",
      "4186\n",
      "4278\n",
      "4371\n",
      "4465\n",
      "4560\n",
      "4656\n",
      "4753\n",
      "4851\n",
      "4950\n",
      "5050\n"
     ]
    }
   ],
   "source": [
    "summ=0\n",
    "for p in range (1,101):\n",
    "    summ =summ + p\n",
    "    print(summ)"
   ]
  },
  {
   "cell_type": "markdown",
   "metadata": {},
   "source": [
    "5.DATA STRUCTURE \n",
    "FIND THE LARGEST AND THE SMALLEST NUMBERS IN A LIST"
   ]
  },
  {
   "cell_type": "code",
   "execution_count": 875,
   "metadata": {},
   "outputs": [
    {
     "name": "stdout",
     "output_type": "stream",
     "text": [
      "the largest is: 77\n",
      "the smalllest is: 5\n"
     ]
    }
   ],
   "source": [
    "LIST=[5,77,8,33,44]\n",
    "largest=max(LIST)\n",
    "smallest=min(LIST)\n",
    "print(\"the largest is:\",largest)\n",
    "print(\"the smalllest is:\",smallest)"
   ]
  },
  {
   "cell_type": "markdown",
   "metadata": {},
   "source": [
    "CREATE A DICTIONARY WITH AT LEAST 3 KEY-VALUE PAIRS.WRITE A PROGRAM TO RETRIEVE THE VALUE OF A GIVEN KEY"
   ]
  },
  {
   "cell_type": "code",
   "execution_count": 876,
   "metadata": {},
   "outputs": [
    {
     "name": "stdout",
     "output_type": "stream",
     "text": [
      "the value or answer of  age is 18\n"
     ]
    }
   ],
   "source": [
    "DATA={\"user\":\"esha\",\"age\":18,\"country\":\"NEPAL\"}\n",
    "KEY=\"age\"\n",
    "if KEY in DATA:\n",
    "    print(\"the value or answer of \",KEY,\"is\",DATA[KEY])\n",
    "else:\n",
    "    print(\"the element is not found\")\n",
    "    "
   ]
  },
  {
   "cell_type": "markdown",
   "metadata": {},
   "source": [
    "SORT A LIST OF NUMBERS IN THE ASCENDING AND DESCENDING ORDER"
   ]
  },
  {
   "cell_type": "code",
   "execution_count": 877,
   "metadata": {},
   "outputs": [
    {
     "name": "stdout",
     "output_type": "stream",
     "text": [
      "ascended number is: [33, 44, 66, 77, 88, 99]\n",
      "descended number is : [99, 88, 77, 66, 44, 33]\n"
     ]
    }
   ],
   "source": [
    "list_of_numbers=[33,66,77,88,99,44]\n",
    "ascended=sorted(list_of_numbers)\n",
    "descended=sorted(list_of_numbers,reverse=True)\n",
    "print(\"ascended number is:\",ascended)\n",
    "print(\"descended number is :\",descended)"
   ]
  },
  {
   "cell_type": "markdown",
   "metadata": {},
   "source": [
    "MERGE TRWO DICTIONARIES INTO ONE"
   ]
  },
  {
   "cell_type": "code",
   "execution_count": 878,
   "metadata": {},
   "outputs": [
    {
     "name": "stdout",
     "output_type": "stream",
     "text": [
      "{'a': 1, 'b': 2, 'c': 3, 'd': 4}\n"
     ]
    }
   ],
   "source": [
    "word1={\"a\":1,\"b\":2}\n",
    "word2={\"c\":3,\"d\":4}\n",
    "merged={**word1,**word2}\n",
    "print(merged)"
   ]
  },
  {
   "cell_type": "markdown",
   "metadata": {},
   "source": [
    "6.STRING OPERATIONS"
   ]
  },
  {
   "cell_type": "markdown",
   "metadata": {},
   "source": [
    "COUNT THE NUMBERS OF VOWELS IN A GIVEN STRING"
   ]
  },
  {
   "cell_type": "code",
   "execution_count": 879,
   "metadata": {},
   "outputs": [
    {
     "name": "stdout",
     "output_type": "stream",
     "text": [
      "number of vowels: 9\n"
     ]
    }
   ],
   "source": [
    "string=\"its my pleasure to help you\"\n",
    "vowels=\"aeiouAEIOU\"\n",
    "count=sum(1 for char in string if char in vowels)\n",
    "print(\"number of vowels:\",count)"
   ]
  },
  {
   "cell_type": "markdown",
   "metadata": {},
   "source": [
    "REVERSE A STRING AND PRINT IT"
   ]
  },
  {
   "cell_type": "code",
   "execution_count": 880,
   "metadata": {},
   "outputs": [
    {
     "name": "stdout",
     "output_type": "stream",
     "text": [
      "nnohtyp\n"
     ]
    }
   ],
   "source": [
    "string=\"pythonn\"\n",
    "reversed=string[::-1]\n",
    "print(reversed)"
   ]
  },
  {
   "cell_type": "markdown",
   "metadata": {},
   "source": [
    "CHECK IF A STRING IS A PALINDROME"
   ]
  },
  {
   "cell_type": "code",
   "execution_count": 881,
   "metadata": {},
   "outputs": [
    {
     "name": "stdout",
     "output_type": "stream",
     "text": [
      "palindrome\n"
     ]
    }
   ],
   "source": [
    "string=\"madam\"\n",
    "if string ==string[::-1]:\n",
    "    print(\"palindrome\")\n",
    "else:\n",
    "    print(\"not a palindrome\")"
   ]
  },
  {
   "cell_type": "markdown",
   "metadata": {},
   "source": [
    "7.FILE HANDLING\n"
   ]
  },
  {
   "cell_type": "markdown",
   "metadata": {},
   "source": [
    "CREATE A TEXT FILE,AND WRITE SMTHG AND READ, PRINT THE CONTENT"
   ]
  },
  {
   "cell_type": "code",
   "execution_count": 882,
   "metadata": {},
   "outputs": [
    {
     "name": "stdout",
     "output_type": "stream",
     "text": [
      "file content:\n",
      " bro i am so tired right now.\n"
     ]
    }
   ],
   "source": [
    "with open(\"example.txt\",\"w\") as file:\n",
    "    file.write(\"bro i am so tired right now.\")\n",
    "with open (\"example.txt\",\"r\") as file:\n",
    "        content=file.read()\n",
    "        print(\"file content:\\n\",content)"
   ]
  },
  {
   "cell_type": "markdown",
   "metadata": {},
   "source": [
    "APPEND TEXT TO AN EXISTING FILE AND PRINT THE UPDATED CONTENT"
   ]
  },
  {
   "cell_type": "code",
   "execution_count": 883,
   "metadata": {},
   "outputs": [
    {
     "name": "stdout",
     "output_type": "stream",
     "text": [
      "the updated file content:\n",
      " bro i am so tired right now.\n",
      " actually i was just exhausted for a while, now a cup of coffee is doing its job.\n"
     ]
    }
   ],
   "source": [
    "with open(\"example.txt\",\"a\") as file:\n",
    "    file.write(\"\\n actually i was just exhausted for a while, now a cup of coffee is doing its job.\")\n",
    "with open(\"example.txt\",\"r\") as file:\n",
    "    content=file.read()\n",
    "    print(\"the updated file content:\\n\",content) "
   ]
  },
  {
   "cell_type": "markdown",
   "metadata": {},
   "source": [
    "TO COUNT THE NUMBER OF LINES IN A TEXT FILE"
   ]
  },
  {
   "cell_type": "code",
   "execution_count": 884,
   "metadata": {},
   "outputs": [
    {
     "name": "stdout",
     "output_type": "stream",
     "text": [
      "number of lines: 2\n"
     ]
    }
   ],
   "source": [
    "with open(\"example.txt\",\"r\") as file:\n",
    "    lines=file.readlines()\n",
    "    print(\"number of lines:\",len(lines))"
   ]
  },
  {
   "cell_type": "markdown",
   "metadata": {},
   "source": [
    "8.EXCEPTION HANDLING"
   ]
  },
  {
   "cell_type": "markdown",
   "metadata": {},
   "source": [
    "HANDLE DIVISION BY ZERO USING A TRY-EXCEPT BLOCK"
   ]
  },
  {
   "cell_type": "code",
   "execution_count": 885,
   "metadata": {},
   "outputs": [
    {
     "name": "stdout",
     "output_type": "stream",
     "text": [
      "error :division by zero is not allowed\n"
     ]
    }
   ],
   "source": [
    "try:\n",
    "    num=10\n",
    "    deno=0\n",
    "    result=num/deno\n",
    "except ZeroDivisionError:\n",
    "    print(\"error :division by zero is not allowed\")\n"
   ]
  },
  {
   "cell_type": "markdown",
   "metadata": {},
   "source": [
    "HANDLE INVALID INPUT"
   ]
  },
  {
   "cell_type": "code",
   "execution_count": 886,
   "metadata": {},
   "outputs": [
    {
     "name": "stdout",
     "output_type": "stream",
     "text": [
      "you entered: 6\n"
     ]
    }
   ],
   "source": [
    "try:\n",
    "    num=int(input(\"enter a number\"))\n",
    "    print(\"you entered:\",num)\n",
    "except ValueError:\n",
    "     print(\"error:invalid input.please enter a valid one\")\n"
   ]
  },
  {
   "cell_type": "markdown",
   "metadata": {},
   "source": [
    "DEMONSTRATE THE USE OF FINALLY IN EXCEPTION HANDLING"
   ]
  },
  {
   "cell_type": "code",
   "execution_count": 887,
   "metadata": {},
   "outputs": [
    {
     "name": "stdout",
     "output_type": "stream",
     "text": [
      "result: 5.0\n",
      "execution complete\n"
     ]
    }
   ],
   "source": [
    "try:\n",
    "    result=10/2\n",
    "    print(\"result:\",result)\n",
    "except ZeroDivisionError:\n",
    "    print(\"error :division by zero\")\n",
    "finally:\n",
    "    print(\"execution complete\")\n"
   ]
  },
  {
   "cell_type": "markdown",
   "metadata": {},
   "source": [
    "9. RANDOM NUMBERS\n"
   ]
  },
  {
   "cell_type": "markdown",
   "metadata": {},
   "source": [
    "GENERATE 5 RANDOM NUMBERS BETWEEN 1 &100"
   ]
  },
  {
   "cell_type": "code",
   "execution_count": 888,
   "metadata": {},
   "outputs": [
    {
     "name": "stdout",
     "output_type": "stream",
     "text": [
      "67\n",
      "24\n",
      "73\n",
      "47\n",
      "43\n"
     ]
    }
   ],
   "source": [
    "import random\n",
    "for i in range(5):\n",
    "    n= random.randint(1,100)\n",
    "    print(n)"
   ]
  },
  {
   "cell_type": "markdown",
   "metadata": {},
   "source": [
    "GENERATE A RANDOM NUMBER AND CHECK IF IT IS PRIME"
   ]
  },
  {
   "cell_type": "code",
   "execution_count": 889,
   "metadata": {},
   "outputs": [
    {
     "name": "stdout",
     "output_type": "stream",
     "text": [
      "22 is not a prime number.\n"
     ]
    }
   ],
   "source": [
    "import math\n",
    "num=random.randint(1,100)\n",
    "flag=0\n",
    "for i in range (2,int(math.sqrt(num))):\n",
    "    if num %i==0:\n",
    "        flag=1\n",
    "        break\n",
    "if flag==0:\n",
    "    print(f'{num}is a prime number.')\n",
    "else:\n",
    "    print(f'{num} is not a prime number.')"
   ]
  },
  {
   "cell_type": "markdown",
   "metadata": {},
   "source": [
    "SIMULATE ROLLING A SIX SIDED DIE"
   ]
  },
  {
   "cell_type": "code",
   "execution_count": 890,
   "metadata": {},
   "outputs": [
    {
     "name": "stdout",
     "output_type": "stream",
     "text": [
      "you rolled a: 6\n"
     ]
    }
   ],
   "source": [
    "import random\n",
    "roll=random.randint(1,6)\n",
    "print(\"you rolled a:\",roll)"
   ]
  },
  {
   "cell_type": "markdown",
   "metadata": {},
   "source": [
    "SHUFFLE A LIST OF NUMBERS"
   ]
  },
  {
   "cell_type": "code",
   "execution_count": 891,
   "metadata": {},
   "outputs": [
    {
     "name": "stdout",
     "output_type": "stream",
     "text": [
      "[3, 4, 5, 1, 2]\n"
     ]
    }
   ],
   "source": [
    "import random\n",
    "numbers=[1,2,3,4,5]\n",
    "random.shuffle(numbers)\n",
    "print(numbers)"
   ]
  },
  {
   "cell_type": "markdown",
   "metadata": {},
   "source": [
    "RANDOMLY SELECT AN ITEM FROM A LIST"
   ]
  },
  {
   "cell_type": "code",
   "execution_count": 892,
   "metadata": {},
   "outputs": [
    {
     "name": "stdout",
     "output_type": "stream",
     "text": [
      "selected items: APPLE\n"
     ]
    }
   ],
   "source": [
    "import random\n",
    "items=['APPLE','BANANA','CHERRY']\n",
    "SELECTEDITEM=random.choice(items)\n",
    "print(\"selected items:\",SELECTEDITEM)"
   ]
  },
  {
   "cell_type": "markdown",
   "metadata": {},
   "source": [
    "PICK A RANDOM CARD FROM  A STANDARD DECK OF THE 52 CARDS"
   ]
  },
  {
   "cell_type": "code",
   "execution_count": 893,
   "metadata": {},
   "outputs": [
    {
     "name": "stdout",
     "output_type": "stream",
     "text": [
      "randomly seleted card 5 of spades\n"
     ]
    }
   ],
   "source": [
    "import random\n",
    "suits=[\"hearts\",\"diamonds\",\"clubs\",\"spades\"]\n",
    "ranks=[\"2\",\"3\",\"4\",\"5\",\"6\",\"7\",\"8\",\"9\",\"10\",\"jack\",\"queen\",\"king\",\"ace\"]\n",
    "deck=[rank+\" of \"+suit for rank in ranks for suit in suits]\n",
    "card=random.choice(deck)\n",
    "print(\"randomly seleted card\",card)"
   ]
  },
  {
   "cell_type": "markdown",
   "metadata": {},
   "source": [
    "GENERATE A RANDOM PASSWORD OF GUVEN LENGTH"
   ]
  },
  {
   "cell_type": "code",
   "execution_count": 894,
   "metadata": {},
   "outputs": [
    {
     "name": "stdout",
     "output_type": "stream",
     "text": [
      "generated password: LlRI/RQf\n"
     ]
    }
   ],
   "source": [
    "import random\n",
    "import string\n",
    "length=8\n",
    "characters=string.ascii_letters +string.digits + string.punctuation\n",
    "password=''.join(random.choice(characters) for i in range(length))\n",
    "print(\"generated password:\",password)"
   ]
  },
  {
   "cell_type": "markdown",
   "metadata": {},
   "source": [
    "10. ACCEPT TWO NUMBERS AS COMMAND-LINE ARGUMENTS,ADD THEM AND PRINT THE RESULT"
   ]
  },
  {
   "cell_type": "code",
   "execution_count": 902,
   "metadata": {},
   "outputs": [
    {
     "name": "stdout",
     "output_type": "stream",
     "text": [
      "give two numbers as command line arguments\n",
      "5.0\n"
     ]
    }
   ],
   "source": [
    "import sys\n",
    "if len(sys.argv) != 3:\n",
    "    print(\"give two numbers as command line arguments\")\n",
    "else:\n",
    "    num1=sys.argv[1]\n",
    "    num2=sys.argv[2]\n",
    "    result=float(num1+num2)\n",
    "print(result)"
   ]
  },
  {
   "cell_type": "markdown",
   "metadata": {},
   "source": [
    "ACCEPT A STRING AS A COMMAND LINE ARGUMENT AND PRINT IT"
   ]
  },
  {
   "cell_type": "code",
   "execution_count": 900,
   "metadata": {},
   "outputs": [
    {
     "name": "stdout",
     "output_type": "stream",
     "text": [
      "107\n"
     ]
    }
   ],
   "source": [
    "import sys\n",
    "s= sys.argv[1]\n",
    "print(len(s))"
   ]
  },
  {
   "cell_type": "markdown",
   "metadata": {},
   "source": []
  },
  {
   "cell_type": "markdown",
   "metadata": {},
   "source": [
    "11.USE OF MATH LIBRARY TO CALCULATE THE SQUARE ROOT OF A GIVEN NUMBER "
   ]
  },
  {
   "cell_type": "code",
   "execution_count": 901,
   "metadata": {},
   "outputs": [
    {
     "name": "stdout",
     "output_type": "stream",
     "text": [
      "the square rot of {number} is {sqrt}\n"
     ]
    }
   ],
   "source": [
    "import math\n",
    "number=16\n",
    "sqrt=math.sqrt(number)\n",
    "print(\"the square rot of {number} is {sqrt}\")"
   ]
  },
  {
   "cell_type": "markdown",
   "metadata": {},
   "source": [
    "USE THE DATATIME LIBRARY TO PRINT THE CURRENT DATE AND TIME"
   ]
  },
  {
   "cell_type": "code",
   "execution_count": 904,
   "metadata": {},
   "outputs": [
    {
     "name": "stdout",
     "output_type": "stream",
     "text": [
      "2025-01-12 01:04:44.178571\n"
     ]
    }
   ],
   "source": [
    "from datetime import datetime\n",
    "current=datetime.now()\n",
    "print(current)"
   ]
  },
  {
   "cell_type": "markdown",
   "metadata": {},
   "source": [
    "USE THE OS LIBRARY TO LIST ALL FILES IN THE CURRENT DIRECTORY"
   ]
  },
  {
   "cell_type": "code",
   "execution_count": 905,
   "metadata": {},
   "outputs": [
    {
     "name": "stdout",
     "output_type": "stream",
     "text": [
      "files in the current directory:\n",
      "bin\n",
      "chrome_100_percent.pak\n",
      "chrome_200_percent.pak\n",
      "Code.exe\n",
      "Code.VisualElementsManifest.xml\n",
      "d3dcompiler_47.dll\n",
      "example.txt\n",
      "ffmpeg.dll\n",
      "icudtl.dat\n",
      "libEGL.dll\n",
      "libGLESv2.dll\n",
      "LICENSES.chromium.html\n",
      "locales\n",
      "policies\n",
      "resources\n",
      "resources.pak\n",
      "snapshot_blob.bin\n",
      "tools\n",
      "unins000.dat\n",
      "unins000.exe\n",
      "unins000.msg\n",
      "v8_context_snapshot.bin\n",
      "vk_swiftshader.dll\n",
      "vk_swiftshader_icd.json\n",
      "vulkan-1.dll\n"
     ]
    }
   ],
   "source": [
    "import os\n",
    "files=os.listdir(\".\")\n",
    "print(\"files in the current directory:\")\n",
    "for file in files:\n",
    "    print(file)"
   ]
  }
 ],
 "metadata": {
  "kernelspec": {
   "display_name": "base",
   "language": "python",
   "name": "python3"
  },
  "language_info": {
   "codemirror_mode": {
    "name": "ipython",
    "version": 3
   },
   "file_extension": ".py",
   "mimetype": "text/x-python",
   "name": "python",
   "nbconvert_exporter": "python",
   "pygments_lexer": "ipython3",
   "version": "3.12.7"
  }
 },
 "nbformat": 4,
 "nbformat_minor": 2
}
